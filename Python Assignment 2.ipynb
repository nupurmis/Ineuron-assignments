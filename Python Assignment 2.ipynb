{
 "cells": [
  {
   "cell_type": "markdown",
   "id": "2046115b",
   "metadata": {},
   "source": [
    "## Python Assignment 2"
   ]
  },
  {
   "cell_type": "markdown",
   "id": "1cf05f2c",
   "metadata": {},
   "source": [
    "1.  Create the below pattern using nested for loop in Python."
   ]
  },
  {
   "cell_type": "code",
   "execution_count": 1,
   "id": "81d278f9",
   "metadata": {},
   "outputs": [],
   "source": [
    "def create_pattern(n):\n",
    "    for i in range(0,n):\n",
    "        for j in range(0,i+1):\n",
    "            print('*', end='')\n",
    "        print('\\r')\n",
    "    for i in range(n,0,-1):\n",
    "        for j in range(0,i-1):\n",
    "            print('*', end='')\n",
    "        print('\\r')"
   ]
  },
  {
   "cell_type": "code",
   "execution_count": 2,
   "id": "7b21b79a",
   "metadata": {},
   "outputs": [
    {
     "name": "stdout",
     "output_type": "stream",
     "text": [
      "*\r\n",
      "**\r\n",
      "***\r\n",
      "****\r\n",
      "*****\r\n",
      "****\r\n",
      "***\r\n",
      "**\r\n",
      "*\r\n",
      "\r\n"
     ]
    }
   ],
   "source": [
    "create_pattern(5)"
   ]
  },
  {
   "cell_type": "markdown",
   "id": "5ad5f74e",
   "metadata": {},
   "source": [
    "2. Write a Python program to reverse a word after accepting the input from the user"
   ]
  },
  {
   "cell_type": "code",
   "execution_count": 3,
   "id": "62d3ac53",
   "metadata": {},
   "outputs": [
    {
     "name": "stdout",
     "output_type": "stream",
     "text": [
      "Enter a word:ineuron\n",
      "norueni\n"
     ]
    }
   ],
   "source": [
    "word=input('Enter a word:')\n",
    "print(word[::-1])"
   ]
  },
  {
   "cell_type": "code",
   "execution_count": null,
   "id": "b6e90462",
   "metadata": {},
   "outputs": [],
   "source": []
  }
 ],
 "metadata": {
  "kernelspec": {
   "display_name": "Python 3 (ipykernel)",
   "language": "python",
   "name": "python3"
  },
  "language_info": {
   "codemirror_mode": {
    "name": "ipython",
    "version": 3
   },
   "file_extension": ".py",
   "mimetype": "text/x-python",
   "name": "python",
   "nbconvert_exporter": "python",
   "pygments_lexer": "ipython3",
   "version": "3.9.12"
  }
 },
 "nbformat": 4,
 "nbformat_minor": 5
}
