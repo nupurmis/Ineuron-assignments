{
 "cells": [
  {
   "cell_type": "markdown",
   "id": "e6a8a14b",
   "metadata": {},
   "source": [
    "In this assignment students have to make ARIMA model over shampoo sales data and check the MSE between predicted and actual value."
   ]
  },
  {
   "cell_type": "code",
   "execution_count": 11,
   "id": "ea101079",
   "metadata": {},
   "outputs": [],
   "source": [
    "import pandas as pd\n",
    "import numpy as np\n",
    "import matplotlib.pyplot as plt\n",
    "#from statsmodels.tsa.arima_model import ARIMA\n",
    "from statsmodels.tsa.arima.model import ARIMA\n",
    "from sklearn.metrics import mean_squared_error\n",
    "import datetime"
   ]
  },
  {
   "cell_type": "code",
   "execution_count": 2,
   "id": "94d6b571",
   "metadata": {},
   "outputs": [],
   "source": [
    "def parser(x):\n",
    "    return datetime.strptime('190'+x, '%Y-%m')\n",
    "series = pd.read_csv('sales-of-shampoo-over-a-three-ye.csv', header=0,parse_dates=True,index_col='Month')"
   ]
  },
  {
   "cell_type": "code",
   "execution_count": 3,
   "id": "1f22002d",
   "metadata": {},
   "outputs": [
    {
     "data": {
      "text/html": [
       "<div>\n",
       "<style scoped>\n",
       "    .dataframe tbody tr th:only-of-type {\n",
       "        vertical-align: middle;\n",
       "    }\n",
       "\n",
       "    .dataframe tbody tr th {\n",
       "        vertical-align: top;\n",
       "    }\n",
       "\n",
       "    .dataframe thead th {\n",
       "        text-align: right;\n",
       "    }\n",
       "</style>\n",
       "<table border=\"1\" class=\"dataframe\">\n",
       "  <thead>\n",
       "    <tr style=\"text-align: right;\">\n",
       "      <th></th>\n",
       "      <th>Sales of shampoo over a three year period</th>\n",
       "    </tr>\n",
       "    <tr>\n",
       "      <th>Month</th>\n",
       "      <th></th>\n",
       "    </tr>\n",
       "  </thead>\n",
       "  <tbody>\n",
       "    <tr>\n",
       "      <th>1-01</th>\n",
       "      <td>266.0</td>\n",
       "    </tr>\n",
       "    <tr>\n",
       "      <th>1-02</th>\n",
       "      <td>145.9</td>\n",
       "    </tr>\n",
       "    <tr>\n",
       "      <th>1-03</th>\n",
       "      <td>183.1</td>\n",
       "    </tr>\n",
       "    <tr>\n",
       "      <th>1-04</th>\n",
       "      <td>119.3</td>\n",
       "    </tr>\n",
       "    <tr>\n",
       "      <th>1-05</th>\n",
       "      <td>180.3</td>\n",
       "    </tr>\n",
       "  </tbody>\n",
       "</table>\n",
       "</div>"
      ],
      "text/plain": [
       "       Sales of shampoo over a three year period\n",
       "Month                                           \n",
       "1-01                                       266.0\n",
       "1-02                                       145.9\n",
       "1-03                                       183.1\n",
       "1-04                                       119.3\n",
       "1-05                                       180.3"
      ]
     },
     "execution_count": 3,
     "metadata": {},
     "output_type": "execute_result"
    }
   ],
   "source": [
    "series.head()"
   ]
  },
  {
   "cell_type": "code",
   "execution_count": 4,
   "id": "3cad8ddc",
   "metadata": {},
   "outputs": [],
   "source": [
    "series = series.dropna()"
   ]
  },
  {
   "cell_type": "code",
   "execution_count": 5,
   "id": "1eb62563",
   "metadata": {},
   "outputs": [
    {
     "data": {
      "image/png": "[encoded data removed]",
      "text/plain": [
       "<Figure size 432x288 with 1 Axes>"
      ]
     },
     "metadata": {
      "needs_background": "light"
     },
     "output_type": "display_data"
    }
   ],
   "source": [
    "series.plot()\n",
    "plt.show()"
   ]
  },
  {
   "cell_type": "code",
   "execution_count": 6,
   "id": "72699e8b",
   "metadata": {},
   "outputs": [],
   "source": [
    "X = series.values"
   ]
  },
  {
   "cell_type": "code",
   "execution_count": 7,
   "id": "05a0fb47",
   "metadata": {},
   "outputs": [
    {
     "data": {
      "text/plain": [
       "array([[266. ],\n",
       "       [145.9],\n",
       "       [183.1],\n",
       "       [119.3],\n",
       "       [180.3],\n",
       "       [168.5],\n",
       "       [231.8],\n",
       "       [224.5],\n",
       "       [192.8],\n",
       "       [122.9],\n",
       "       [336.5],\n",
       "       [185.9],\n",
       "       [194.3],\n",
       "       [149.5],\n",
       "       [210.1],\n",
       "       [273.3],\n",
       "       [191.4],\n",
       "       [287. ],\n",
       "       [226. ],\n",
       "       [303.6],\n",
       "       [289.9],\n",
       "       [421.6],\n",
       "       [264.5],\n",
       "       [342.3],\n",
       "       [339.7],\n",
       "       [440.4],\n",
       "       [315.9],\n",
       "       [439.3],\n",
       "       [401.3],\n",
       "       [437.4],\n",
       "       [575.5],\n",
       "       [407.6],\n",
       "       [682. ],\n",
       "       [475.3],\n",
       "       [581.3],\n",
       "       [646.9]])"
      ]
     },
     "execution_count": 7,
     "metadata": {},
     "output_type": "execute_result"
    }
   ],
   "source": [
    "X"
   ]
  },
  {
   "cell_type": "code",
   "execution_count": 8,
   "id": "4e8dce61",
   "metadata": {},
   "outputs": [
    {
     "name": "stdout",
     "output_type": "stream",
     "text": [
      "36\n",
      "21\n"
     ]
    }
   ],
   "source": [
    "size = int(len(X) * 0.60)\n",
    "print(len(X))\n",
    "print(size)"
   ]
  },
  {
   "cell_type": "code",
   "execution_count": 9,
   "id": "44e708d5",
   "metadata": {},
   "outputs": [],
   "source": [
    "train, test = X[0:size], X[size:len(X)]"
   ]
  },
  {
   "cell_type": "code",
   "execution_count": 13,
   "id": "83abe2dd",
   "metadata": {},
   "outputs": [
    {
     "name": "stdout",
     "output_type": "stream",
     "text": [
      "Predicted=264.8267901167129,Expected =[421.6]\n",
      "Predicted=309.42912486584777,Expected =[264.5]\n",
      "Predicted=343.2721804142173,Expected =[342.3]\n",
      "Predicted=293.32967411680767,Expected =[339.7]\n",
      "Predicted=368.6689556923214,Expected =[440.4]\n",
      "Predicted=335.044740638034,Expected =[315.9]\n",
      "Predicted=363.2202215171502,Expected =[439.3]\n",
      "Predicted=357.64532347323683,Expected =[401.3]\n",
      "Predicted=443.04783536696334,Expected =[437.4]\n",
      "Predicted=378.3656734866571,Expected =[575.5]\n",
      "Predicted=459.41502048414446,Expected =[407.6]\n",
      "Predicted=526.8908755663845,Expected =[682.]\n",
      "Predicted=457.23127476167883,Expected =[475.3]\n",
      "Predicted=672.9149433869607,Expected =[581.3]\n",
      "Predicted=531.5414492158278,Expected =[646.9]\n",
      "TEST MSE :8641.212975394004\n"
     ]
    }
   ],
   "source": [
    "history = [x for x in train]\n",
    "predictions = list()\n",
    "for t in range(len(test)):\n",
    "    model = ARIMA(history,order=(5,1,0))\n",
    "    model_fit = model.fit()\n",
    "    output = model_fit.forecast()\n",
    "    yhat = output[0]\n",
    "    predictions.append(yhat)\n",
    "    obs = test[t]\n",
    "    history.append(obs)\n",
    "    print(f'Predicted={yhat},Expected ={obs}')\n",
    "error = mean_squared_error(test,predictions)\n",
    "print(f\"TEST MSE :{error}\")"
   ]
  },
  {
   "cell_type": "code",
   "execution_count": 14,
   "id": "29e63e17",
   "metadata": {},
   "outputs": [
    {
     "data": {
      "image/png": "[encoded data removed]",
      "text/plain": [
       "<Figure size 432x288 with 1 Axes>"
      ]
     },
     "metadata": {
      "needs_background": "light"
     },
     "output_type": "display_data"
    }
   ],
   "source": [
    "plt.plot(test)\n",
    "plt.plot(predictions, color='red')\n",
    "plt.show()"
   ]
  },
  {
   "cell_type": "code",
   "execution_count": null,
   "id": "db58bb4f",
   "metadata": {},
   "outputs": [],
   "source": []
  }
 ],
 "metadata": {
  "kernelspec": {
   "display_name": "Python 3 (ipykernel)",
   "language": "python",
   "name": "python3"
  },
  "language_info": {
   "codemirror_mode": {
    "name": "ipython",
    "version": 3
   },
   "file_extension": ".py",
   "mimetype": "text/x-python",
   "name": "python",
   "nbconvert_exporter": "python",
   "pygments_lexer": "ipython3",
   "version": "3.9.12"
  }
 },
 "nbformat": 4,
 "nbformat_minor": 5
}
