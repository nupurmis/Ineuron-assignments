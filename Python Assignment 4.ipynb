{
 "cells": [
  {
   "cell_type": "markdown",
   "id": "430b43e4",
   "metadata": {},
   "source": [
    "1.1 Write a Python Program(with class concepts) to find the area of the triangle using the below\n",
    "formula.\n",
    "area = (s*(s-a)*(s-b)*(s-c)) ** 0.5\n",
    "Function to take the length of the sides of triangle from user should be defined in the parent\n",
    "class and function to calculate the area should be defined in subclass."
   ]
  },
  {
   "cell_type": "code",
   "execution_count": 1,
   "id": "722f03b5",
   "metadata": {},
   "outputs": [],
   "source": [
    "import math\n",
    "def calc_area(a,b,c):\n",
    "    s = (a+b+c)/2\n",
    "    area = math.sqrt(s*(s-a)*(s-b)*(s-c))\n",
    "    return area"
   ]
  },
  {
   "cell_type": "code",
   "execution_count": 2,
   "id": "8fd78cb8",
   "metadata": {},
   "outputs": [
    {
     "name": "stdout",
     "output_type": "stream",
     "text": [
      "Enter first side of traingle: 3\n",
      "Enter second side of traingle: 2\n",
      "Enter third side of traingle: 3\n",
      "Area of traingle is %f 2.8284271247461903\n"
     ]
    }
   ],
   "source": [
    "a = float(input('Enter first side of traingle: '))\n",
    "b = float(input('Enter second side of traingle: '))\n",
    "c = float(input('Enter third side of traingle: '))\n",
    "area = calc_area(a,b,c)\n",
    "print('Area of traingle is %f',area)"
   ]
  },
  {
   "cell_type": "markdown",
   "id": "f6611745",
   "metadata": {},
   "source": [
    "1.2 Write a function filter_long_words() that takes a list of words and an integer n and returns\n",
    "the list of words that are longer than n."
   ]
  },
  {
   "cell_type": "code",
   "execution_count": 3,
   "id": "862d9e90",
   "metadata": {},
   "outputs": [],
   "source": [
    "def filter_long_words(lst,n):\n",
    "    list_ret = []\n",
    "    for i in lst:\n",
    "        if len(i) > n:\n",
    "            list_ret.append(i)\n",
    "    return list_ret"
   ]
  },
  {
   "cell_type": "code",
   "execution_count": 5,
   "id": "f2938ddb",
   "metadata": {},
   "outputs": [
    {
     "name": "stdout",
     "output_type": "stream",
     "text": [
      "['Fourth', 'assignment', 'python']\n",
      "['assignment']\n"
     ]
    }
   ],
   "source": [
    "lst_input = ['Fourth','assignment','of','python']\n",
    "l1 = filter_long_words(lst_input,3)\n",
    "l2 = filter_long_words(lst_input,6)\n",
    "print(l1)\n",
    "print(l2)"
   ]
  },
  {
   "cell_type": "markdown",
   "id": "7c63d32e",
   "metadata": {},
   "source": [
    "2.1 Write a Python program using function concept that maps list of words into a list of integers\n",
    "representing the lengths of the corresponding words.\n",
    "Hint: If a list [ ab,cde,erty] is passed on to the python function output should come as [2,3,4]\n",
    "Here 2,3 and 4 are the lengths of the words in the list."
   ]
  },
  {
   "cell_type": "code",
   "execution_count": 6,
   "id": "a8adab9b",
   "metadata": {},
   "outputs": [],
   "source": [
    "def map_integer(lst):\n",
    "    l_ret = []\n",
    "    for i in range(len(lst)):\n",
    "        l_ret.append(len(lst[i]))\n",
    "    return l_ret"
   ]
  },
  {
   "cell_type": "code",
   "execution_count": 7,
   "id": "b9f83c2b",
   "metadata": {},
   "outputs": [
    {
     "data": {
      "text/plain": [
       "[6, 10, 2, 6]"
      ]
     },
     "execution_count": 7,
     "metadata": {},
     "output_type": "execute_result"
    }
   ],
   "source": [
    "l_int = map_integer(lst_input)\n",
    "l_int"
   ]
  },
  {
   "cell_type": "markdown",
   "id": "f70a6315",
   "metadata": {},
   "source": [
    "2.2 Write a Python function which takes a character (i.e. a string of length 1) and returns True if\n",
    "it is a vowel, False otherwise."
   ]
  },
  {
   "cell_type": "code",
   "execution_count": 10,
   "id": "5a3585af",
   "metadata": {},
   "outputs": [],
   "source": [
    "def check_vowel():\n",
    "    char = input('Enter a single character: ')\n",
    "    if len(char) > 1:\n",
    "        print('Only first character is considered')\n",
    "    vowels = 'aeiou'\n",
    "    if char in vowels:\n",
    "        print(True)\n",
    "    else:\n",
    "        print(False)"
   ]
  },
  {
   "cell_type": "code",
   "execution_count": 11,
   "id": "3712a0a5",
   "metadata": {},
   "outputs": [
    {
     "name": "stdout",
     "output_type": "stream",
     "text": [
      "Enter a single character: a\n",
      "True\n"
     ]
    }
   ],
   "source": [
    "check_vowel()"
   ]
  },
  {
   "cell_type": "code",
   "execution_count": 12,
   "id": "9ac05236",
   "metadata": {},
   "outputs": [
    {
     "name": "stdout",
     "output_type": "stream",
     "text": [
      "Enter a single character: sd\n",
      "Only first character is considered\n",
      "False\n"
     ]
    }
   ],
   "source": [
    "check_vowel()"
   ]
  },
  {
   "cell_type": "code",
   "execution_count": 13,
   "id": "5317104a",
   "metadata": {},
   "outputs": [
    {
     "name": "stdout",
     "output_type": "stream",
     "text": [
      "Enter a single character: 1\n",
      "False\n"
     ]
    }
   ],
   "source": [
    "check_vowel()"
   ]
  },
  {
   "cell_type": "code",
   "execution_count": null,
   "id": "9be42bf3",
   "metadata": {},
   "outputs": [],
   "source": []
  }
 ],
 "metadata": {
  "kernelspec": {
   "display_name": "Python 3 (ipykernel)",
   "language": "python",
   "name": "python3"
  },
  "language_info": {
   "codemirror_mode": {
    "name": "ipython",
    "version": 3
   },
   "file_extension": ".py",
   "mimetype": "text/x-python",
   "name": "python",
   "nbconvert_exporter": "python",
   "pygments_lexer": "ipython3",
   "version": "3.9.12"
  }
 },
 "nbformat": 4,
 "nbformat_minor": 5
}
